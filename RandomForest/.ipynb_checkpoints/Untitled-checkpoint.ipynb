{
 "cells": [
  {
   "cell_type": "code",
   "execution_count": null,
   "metadata": {},
   "outputs": [],
   "source": [
    "from sklearn.ensemble import RandomForestRegressor\n",
    "rf = RandomForestRegressor(n_estimators = 1000, random_state = 42) # generates 1000 decisoin trees (we can change these \n",
    "                                                                   # hyperparameters to imporve the accuracy of our model)\n",
    "\n",
    "rf.fit(train_features, train_labels); # Train the model on training data (chnage those inputs depending on the actual \n",
    "                                      # training variables)\n",
    "\n",
    "predictions = rf.predict(test_features) # Use the forest's predict method on the test data\n",
    "\n",
    "\n",
    "errors = abs(predictions - test_labels) # this was one way I found in \"towards data science\" website, we can use the NRMSD \n",
    "                                        # to calculate the error. \n",
    "    \n",
    "mape = 100 * (errors / test_labels)  # Calculate mean absolute percentage error (MAPE)\n",
    "\n",
    "accuracy = 100 - np.mean(mape) # Calculate and display accuracy\n",
    "\n",
    "\n",
    "\n"
   ]
  }
 ],
 "metadata": {
  "kernelspec": {
   "display_name": "Python 3",
   "language": "python",
   "name": "python3"
  },
  "language_info": {
   "codemirror_mode": {
    "name": "ipython",
    "version": 3
   },
   "file_extension": ".py",
   "mimetype": "text/x-python",
   "name": "python",
   "nbconvert_exporter": "python",
   "pygments_lexer": "ipython3",
   "version": "3.6.5"
  },
  "toc": {
   "base_numbering": 1,
   "nav_menu": {},
   "number_sections": false,
   "sideBar": false,
   "skip_h1_title": false,
   "title_cell": "Table of Contents",
   "title_sidebar": "Contents",
   "toc_cell": false,
   "toc_position": {},
   "toc_section_display": false,
   "toc_window_display": false
  }
 },
 "nbformat": 4,
 "nbformat_minor": 2
}
