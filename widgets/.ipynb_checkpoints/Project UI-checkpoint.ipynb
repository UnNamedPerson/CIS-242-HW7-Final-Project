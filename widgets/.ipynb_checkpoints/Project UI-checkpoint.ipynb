{
 "cells": [
  {
   "cell_type": "code",
   "execution_count": 19,
   "metadata": {},
   "outputs": [
    {
     "data": {
      "application/vnd.jupyter.widget-view+json": {
       "model_id": "d073eae7f212493eb5994f7df7d5ce3f",
       "version_major": 2,
       "version_minor": 0
      },
      "text/plain": [
       "Image(value=b'\\x89PNG\\r\\n\\x1a\\n\\x00\\x00\\x00\\rIHDR\\x00\\x00\\x04\\xb6\\x00\\x00\\x00\\xf0\\x08\\x06\\x00\\x00\\x00\\x1d(\\xed…"
      ]
     },
     "metadata": {},
     "output_type": "display_data"
    },
    {
     "data": {
      "application/vnd.jupyter.widget-view+json": {
       "model_id": "cbaf39b0fcf44c4eb08a81733afa783e",
       "version_major": 2,
       "version_minor": 0
      },
      "text/plain": [
       "HBox(children=(Label(value='outlet code'), Text(value='')))"
      ]
     },
     "metadata": {},
     "output_type": "display_data"
    },
    {
     "data": {
      "application/vnd.jupyter.widget-view+json": {
       "model_id": "6ec49523c2a54d5ca57ade2284094a5b",
       "version_major": 2,
       "version_minor": 0
      },
      "text/plain": [
       "HBox(children=(Label(value='cash memo balance amount'), Text(value='')))"
      ]
     },
     "metadata": {},
     "output_type": "display_data"
    },
    {
     "data": {
      "application/vnd.jupyter.widget-view+json": {
       "model_id": "42791b4a6a4c4e78b63433aedef75f2c",
       "version_major": 2,
       "version_minor": 0
      },
      "text/plain": [
       "HBox(children=(Label(value='product price'), Text(value='')))"
      ]
     },
     "metadata": {},
     "output_type": "display_data"
    },
    {
     "data": {
      "application/vnd.jupyter.widget-view+json": {
       "model_id": "45e2e00a91a74ad58c9a8e318d096ee1",
       "version_major": 2,
       "version_minor": 0
      },
      "text/plain": [
       "HBox(children=(Label(value='DPD (max value = 30, min value = 0)'), IntSlider(value=0, continuous_update=False,…"
      ]
     },
     "metadata": {},
     "output_type": "display_data"
    },
    {
     "data": {
      "application/vnd.jupyter.widget-view+json": {
       "model_id": "6880b233144a4e29bc16aa66f3421a70",
       "version_major": 2,
       "version_minor": 0
      },
      "text/plain": [
       "HBox(children=(Label(value='cash memo total amount'), Text(value='')))"
      ]
     },
     "metadata": {},
     "output_type": "display_data"
    },
    {
     "data": {
      "application/vnd.jupyter.widget-view+json": {
       "model_id": "56524f35f4ff4b7d857a988c3b55467e",
       "version_major": 2,
       "version_minor": 0
      },
      "text/plain": [
       "Button(description='submit features', style=ButtonStyle())"
      ]
     },
     "metadata": {},
     "output_type": "display_data"
    },
    {
     "data": {
      "application/vnd.jupyter.widget-view+json": {
       "model_id": "bdf027cfd8de4c75a8c2f6c0fb7b0839",
       "version_major": 2,
       "version_minor": 0
      },
      "text/plain": [
       "Label(value='the quantity based on the features is: ')"
      ]
     },
     "metadata": {},
     "output_type": "display_data"
    },
    {
     "data": {
      "application/vnd.jupyter.widget-view+json": {
       "model_id": "6f817b8b7581445887ca466d115e1daa",
       "version_major": 2,
       "version_minor": 0
      },
      "text/plain": [
       "Label(value='')"
      ]
     },
     "metadata": {},
     "output_type": "display_data"
    }
   ],
   "source": [
    "import ipywidgets as widgets\n",
    "from IPython.display import display, Image\n",
    "from ipywidgets import HBox, Label\n",
    "from PIL import Image\n",
    "import matplotlib.pyplot as plt\n",
    "import matplotlib.image as mpimg\n",
    "\n",
    "# w = widgets.IntSlider()\n",
    "# display(w)\n",
    "IntSliderlayout = widgets.Layout(width='70%', height='50px') # the layout that contains the intSlider\n",
    "\n",
    "outlet_code_Textwidget = widgets.Text(\n",
    "#     description = 'outlet_code',\n",
    "#     layout=widgets.Layout(width='50%', height='80px')\n",
    ")\n",
    "outletBox = HBox([Label('outlet code'), outlet_code_Textwidget]) # a box tha holds the outlet code text box. This is used with this widget\n",
    "                                                     # and other widgets to allow for more room for the label as description\n",
    "                                                     # doesn't scale properly in size.\n",
    "cash_memo_balance_amount_Textwidget = widgets.Text(\n",
    "#     description = 'cash_memo_balance_amount'\n",
    ")\n",
    "cash_memo_balance_amountBox = HBox([Label('cash memo balance amount'), cash_memo_balance_amount_Textwidget])\n",
    "\n",
    "cash_memo_total_amount_Textwidget = widgets.Text()\n",
    "cash_memo_total_amountBox = HBox([Label('cash memo total amount'), cash_memo_total_amount_Textwidget])\n",
    "\n",
    "product_price_Textwidget = widgets.Text(\n",
    "#     description = 'product_price'\n",
    ")\n",
    "product_priceBox = HBox([Label('product price'), product_price_Textwidget])\n",
    "\n",
    "quantity_Textwidget = widgets.Text(\n",
    "#     description = 'quantity'\n",
    ")\n",
    "quantityBox = HBox([Label('quantity'), quantity_Textwidget])\n",
    "\n",
    "DPD_IntSliderwidget = widgets.IntSlider(\n",
    "    value = 0, # the initial value\n",
    "    min = 0,  # setting the min and max values of the slider\n",
    "    max = 30,    \n",
    "#     description='DPD:', # a text describing the slider\n",
    "    disabled=False, # if you want to disable the slider or enable it.\n",
    "    continuous_update=False,\n",
    "    orientation='horizontal',\n",
    "    readout=True,\n",
    "    layout = IntSliderlayout,\n",
    "    readout_format='d'\n",
    ")\n",
    "DPDBox = HBox([Label('DPD (max value = 30, min value = 0)'), DPD_IntSliderwidget])\n",
    "\n",
    "submit_button = widgets.Button(\n",
    "    description = 'submit features'\n",
    ")\n",
    "\n",
    "quantitylabel = Label(  \n",
    ")\n",
    "\n",
    "# defining and setting up the image widget\n",
    "imgFile = open(\"../logo.png\", \"rb\")\n",
    "image = imgFile.read()\n",
    "imageWidget = widgets.Image(\n",
    "    value=image,\n",
    "    format='png',\n",
    "    width=500,\n",
    "    height=400,\n",
    ")\n",
    "\n",
    "# the method that used in the submit button click event\n",
    "def submitFeatures(btn_object):\n",
    "    print('outlete_code: ', outlet_code_Textwidget.value)\n",
    "    print('cash_memo_balance_amount: ', cash_memo_balance_amount_Textwidget.value)\n",
    "    print('product_price_Textwid: ', product_price_Textwidget.value)\n",
    "    print('DPD: ', DPD_IntSliderwidget.value)\n",
    "    print(' based on the data, the quantity is: ', quantity_Textwidget.value)\n",
    "    print('cash_memo_total_amount: ', cash_memo_total_amount_Textwidget.value)\n",
    "    quantitylabel.description = quantity_Textwidget.value  # storing the result of the final quantity value here\n",
    "\n",
    "\n",
    "display(imageWidget) # showing the image \n",
    "display(outletBox) # showing the outlet text field widget\n",
    "display(cash_memo_balance_amountBox) # showing the cash_memo_balance text field widget\n",
    "display(product_priceBox) #  showing the product_price text field widget\n",
    "display(DPDBox) #  showing the DPD slider widget\n",
    "display(cash_memo_total_amountBox) #  showing the cash_memo_total text field widget\n",
    "display(submit_button) #  showing the submit button widget\n",
    "submit_button.on_click(submitFeatures)\n",
    "# display(quantityBox)\n",
    "display(Label('the quantity based on the features is: '))  # showing the quantity label \n",
    "display(quantitylabel) # showing the quantity label result \n",
    "# w.close()"
   ]
  },
  {
   "cell_type": "code",
   "execution_count": null,
   "metadata": {},
   "outputs": [],
   "source": []
  }
 ],
 "metadata": {
  "kernelspec": {
   "display_name": "Python 3",
   "language": "python",
   "name": "python3"
  },
  "language_info": {
   "codemirror_mode": {
    "name": "ipython",
    "version": 3
   },
   "file_extension": ".py",
   "mimetype": "text/x-python",
   "name": "python",
   "nbconvert_exporter": "python",
   "pygments_lexer": "ipython3",
   "version": "3.6.5"
  },
  "toc": {
   "base_numbering": 1,
   "nav_menu": {},
   "number_sections": false,
   "sideBar": false,
   "skip_h1_title": false,
   "title_cell": "Table of Contents",
   "title_sidebar": "Contents",
   "toc_cell": false,
   "toc_position": {},
   "toc_section_display": false,
   "toc_window_display": false
  }
 },
 "nbformat": 4,
 "nbformat_minor": 2
}
