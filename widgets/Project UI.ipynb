{
 "cells": [
  {
   "cell_type": "code",
   "execution_count": 40,
   "metadata": {},
   "outputs": [
    {
     "data": {
      "application/vnd.jupyter.widget-view+json": {
       "model_id": "2b9be56295b64f04b8dc284bd81c9cf1",
       "version_major": 2,
       "version_minor": 0
      },
      "text/plain": [
       "HBox(children=(Label(value='outlet code'), Text(value='')))"
      ]
     },
     "metadata": {},
     "output_type": "display_data"
    },
    {
     "data": {
      "application/vnd.jupyter.widget-view+json": {
       "model_id": "4bca35575bb946a69f7739003a5e7849",
       "version_major": 2,
       "version_minor": 0
      },
      "text/plain": [
       "HBox(children=(Label(value='cash memo balance amount'), Text(value='')))"
      ]
     },
     "metadata": {},
     "output_type": "display_data"
    },
    {
     "data": {
      "application/vnd.jupyter.widget-view+json": {
       "model_id": "d2b2577678b64f4083ff2324b9e4abac",
       "version_major": 2,
       "version_minor": 0
      },
      "text/plain": [
       "HBox(children=(Label(value='product price'), Text(value='')))"
      ]
     },
     "metadata": {},
     "output_type": "display_data"
    },
    {
     "data": {
      "application/vnd.jupyter.widget-view+json": {
       "model_id": "4bef80e1910e4819ae6c671e4478abbb",
       "version_major": 2,
       "version_minor": 0
      },
      "text/plain": [
       "HBox(children=(Label(value='DPD (max value = 30, min value = 0)'), IntSlider(value=0, continuous_update=False,…"
      ]
     },
     "metadata": {},
     "output_type": "display_data"
    },
    {
     "data": {
      "application/vnd.jupyter.widget-view+json": {
       "model_id": "f4cb8855cff24d3ebfb868289a780276",
       "version_major": 2,
       "version_minor": 0
      },
      "text/plain": [
       "Button(description='submit features', style=ButtonStyle())"
      ]
     },
     "metadata": {},
     "output_type": "display_data"
    },
    {
     "data": {
      "application/vnd.jupyter.widget-view+json": {
       "model_id": "dd79bb7e4fec49adba7eb6b084fd0d34",
       "version_major": 2,
       "version_minor": 0
      },
      "text/plain": [
       "Label(value='the quantity based on the features is: ')"
      ]
     },
     "metadata": {},
     "output_type": "display_data"
    },
    {
     "data": {
      "application/vnd.jupyter.widget-view+json": {
       "model_id": "4696f835a85d4b9082a615363a0f2025",
       "version_major": 2,
       "version_minor": 0
      },
      "text/plain": [
       "Label(value='')"
      ]
     },
     "metadata": {},
     "output_type": "display_data"
    }
   ],
   "source": [
    "import ipywidgets as widgets\n",
    "# from ipywidgets import Button, Layout\n",
    "from IPython.display import display\n",
    "from ipywidgets import HBox, Label\n",
    "\n",
    "\n",
    "# w = widgets.IntSlider()\n",
    "# display(w)\n",
    "IntSliderlayout = widgets.Layout(width='70%', height='50px') # the layout that contains the intSlider\n",
    "\n",
    "outlet_code_Textwidget = widgets.Text(\n",
    "#     description = 'outlet_code',\n",
    "#     layout=widgets.Layout(width='50%', height='80px')\n",
    ")\n",
    "outletBox = HBox([Label('outlet code'), outlet_code_Textwidget]) # a box tha holds the outlet code text box. This is used with this widget\n",
    "                                                     # and other widgets to allow for more room for the label as description\n",
    "                                                     # doesn't scale properly in size.\n",
    "cash_memo_balance_amount_Textwidget = widgets.Text(\n",
    "#     description = 'cash_memo_balance_amount'\n",
    ")\n",
    "cash_memo_balance_amountBox = HBox([Label('cash memo balance amount'), cash_memo_balance_amount_Textwidget])\n",
    "\n",
    "product_price_Textwidget = widgets.Text(\n",
    "#     description = 'product_price'\n",
    ")\n",
    "product_priceBox = HBox([Label('product price'), product_price_Textwidget])\n",
    "\n",
    "\n",
    "quantity_Textwidget = widgets.Text(\n",
    "#     description = 'quantity'\n",
    ")\n",
    "quantityBox = HBox([Label('quantity'), quantity_Textwidget])\n",
    "\n",
    "\n",
    "DPD_IntSliderwidget = widgets.IntSlider(\n",
    "    value = 0, # the initial value\n",
    "    min = 0,  # setting the min and max values of the slider\n",
    "    max = 30,    \n",
    "#     description='DPD:', # a text describing the slider\n",
    "    disabled=False, # if you want to disable the slider or enable it.\n",
    "    continuous_update=False,\n",
    "    orientation='horizontal',\n",
    "    readout=True,\n",
    "    layout = IntSliderlayout,\n",
    "    readout_format='d')\n",
    "\n",
    "submit_button = widgets.Button(\n",
    "    description = 'submit features'\n",
    ")\n",
    "quantitylabel = Label(\n",
    "    \n",
    ")\n",
    "DPDBox = HBox([Label('DPD (max value = 30, min value = 0)'), DPD_IntSliderwidget])\n",
    "\n",
    "\n",
    "def submitFeatures(btn_object): # the method that used in the submit button click event\n",
    "    print('outlete_code: ', outlet_code_Textwidget.value)\n",
    "    print('cash_memo_balance_amount: ', cash_memo_balance_amount_Textwidget.value)\n",
    "    print('product_price_Textwid: ', product_price_Textwidget.value)\n",
    "    print('DPD: ', DPD_IntSliderwidget.value)\n",
    "    print(' based on the data, the quantity is: ', quantity_Textwidget.value)\n",
    "    quantitylabel.description = quantity_Textwidget.value\n",
    "    \n",
    "\n",
    "\n",
    "# display(outlet_code_Textwidget)\n",
    "# display(cash_memo_balance_amount_Textwidget)\n",
    "# display(product_price_Textwidget)\n",
    "# display(quantity_Textwidget)\n",
    "# display(DPD_IntSliderwidget)\n",
    "display(outletBox)\n",
    "display(cash_memo_balance_amountBox)\n",
    "display(product_priceBox)\n",
    "display(DPDBox)\n",
    "display(submit_button)\n",
    "submit_button.on_click(submitFeatures)\n",
    "# display(quantityBox)\n",
    "display(Label('the quantity based on the features is: '))\n",
    "\n",
    "display(quantitylabel)\n",
    "\n",
    "# w.close()"
   ]
  },
  {
   "cell_type": "code",
   "execution_count": null,
   "metadata": {},
   "outputs": [],
   "source": []
  }
 ],
 "metadata": {
  "kernelspec": {
   "display_name": "Python 3",
   "language": "python",
   "name": "python3"
  },
  "language_info": {
   "codemirror_mode": {
    "name": "ipython",
    "version": 3
   },
   "file_extension": ".py",
   "mimetype": "text/x-python",
   "name": "python",
   "nbconvert_exporter": "python",
   "pygments_lexer": "ipython3",
   "version": "3.6.5"
  },
  "toc": {
   "base_numbering": 1,
   "nav_menu": {},
   "number_sections": false,
   "sideBar": false,
   "skip_h1_title": false,
   "title_cell": "Table of Contents",
   "title_sidebar": "Contents",
   "toc_cell": false,
   "toc_position": {},
   "toc_section_display": false,
   "toc_window_display": false
  }
 },
 "nbformat": 4,
 "nbformat_minor": 2
}
