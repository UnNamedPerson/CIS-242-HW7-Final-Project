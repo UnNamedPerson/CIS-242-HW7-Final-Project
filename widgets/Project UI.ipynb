{
 "cells": [
  {
   "cell_type": "code",
   "execution_count": 4,
   "metadata": {},
   "outputs": [
    {
     "data": {
      "application/vnd.jupyter.widget-view+json": {
       "model_id": "4bdad14d8b904bcd8c2d779df07a7bbb",
       "version_major": 2,
       "version_minor": 0
      },
      "text/plain": [
       "Image(value=b'\\x89PNG\\r\\n\\x1a\\n\\x00\\x00\\x00\\rIHDR\\x00\\x00\\x04\\xb6\\x00\\x00\\x00\\xf0\\x08\\x06\\x00\\x00\\x00\\x1d(\\xed…"
      ]
     },
     "metadata": {},
     "output_type": "display_data"
    },
    {
     "data": {
      "application/vnd.jupyter.widget-view+json": {
       "model_id": "9fabdf47b1e44d35863151c85ce01295",
       "version_major": 2,
       "version_minor": 0
      },
      "text/plain": [
       "HBox(children=(Label(value='outlet code'), Text(value='')))"
      ]
     },
     "metadata": {},
     "output_type": "display_data"
    },
    {
     "data": {
      "application/vnd.jupyter.widget-view+json": {
       "model_id": "69401bd2be604ade8d365b2c5afdc9aa",
       "version_major": 2,
       "version_minor": 0
      },
      "text/plain": [
       "HBox(children=(Label(value='cash memo balance amount'), Text(value='')))"
      ]
     },
     "metadata": {},
     "output_type": "display_data"
    },
    {
     "data": {
      "application/vnd.jupyter.widget-view+json": {
       "model_id": "e161173dfaa24e8f9954e34999439301",
       "version_major": 2,
       "version_minor": 0
      },
      "text/plain": [
       "HBox(children=(Label(value='product price'), Text(value='')))"
      ]
     },
     "metadata": {},
     "output_type": "display_data"
    },
    {
     "data": {
      "application/vnd.jupyter.widget-view+json": {
       "model_id": "366aa6dde54447448c045b71faad96df",
       "version_major": 2,
       "version_minor": 0
      },
      "text/plain": [
       "HBox(children=(Label(value='DPD (max value = 30, min value = 0)'), IntSlider(value=0, continuous_update=False,…"
      ]
     },
     "metadata": {},
     "output_type": "display_data"
    },
    {
     "data": {
      "application/vnd.jupyter.widget-view+json": {
       "model_id": "7432ea97c3724e32bdad0d6c1601d45f",
       "version_major": 2,
       "version_minor": 0
      },
      "text/plain": [
       "HBox(children=(Label(value='quantity'), Text(value='')))"
      ]
     },
     "metadata": {},
     "output_type": "display_data"
    },
    {
     "data": {
      "application/vnd.jupyter.widget-view+json": {
       "model_id": "d1618b1375704d31975396b649a7a225",
       "version_major": 2,
       "version_minor": 0
      },
      "text/plain": [
       "Button(description='submit features', style=ButtonStyle())"
      ]
     },
     "metadata": {},
     "output_type": "display_data"
    },
    {
     "data": {
      "application/vnd.jupyter.widget-view+json": {
       "model_id": "ad641c30ea17487fbfae894e5dcd6368",
       "version_major": 2,
       "version_minor": 0
      },
      "text/plain": [
       "Label(value='the Paid Ratio based on the features is: ')"
      ]
     },
     "metadata": {},
     "output_type": "display_data"
    },
    {
     "data": {
      "application/vnd.jupyter.widget-view+json": {
       "model_id": "3732226030134b2d86861659a12f2b42",
       "version_major": 2,
       "version_minor": 0
      },
      "text/plain": [
       "Label(value='')"
      ]
     },
     "metadata": {},
     "output_type": "display_data"
    },
    {
     "name": "stdout",
     "output_type": "stream",
     "text": [
      "[[12, 32.0, 12.0, 2, 10]]\n"
     ]
    },
    {
     "ename": "NameError",
     "evalue": "name 'Predictor' is not defined",
     "output_type": "error",
     "traceback": [
      "\u001b[0;31m---------------------------------------------------------------------------\u001b[0m",
      "\u001b[0;31mNameError\u001b[0m                                 Traceback (most recent call last)",
      "\u001b[0;32m<ipython-input-4-dfe680ad5274>\u001b[0m in \u001b[0;36msubmitFeatures\u001b[0;34m(btn_object)\u001b[0m\n\u001b[1;32m     84\u001b[0m \u001b[0;34m\u001b[0m\u001b[0m\n\u001b[1;32m     85\u001b[0m     \u001b[0mprint\u001b[0m\u001b[0;34m(\u001b[0m\u001b[0mpredictor_input\u001b[0m\u001b[0;34m)\u001b[0m\u001b[0;34m\u001b[0m\u001b[0m\n\u001b[0;32m---> 86\u001b[0;31m     \u001b[0mprediction\u001b[0m \u001b[0;34m=\u001b[0m \u001b[0mPredictor\u001b[0m\u001b[0;34m.\u001b[0m\u001b[0mpredict\u001b[0m\u001b[0;34m(\u001b[0m\u001b[0mpredictor_input\u001b[0m\u001b[0;34m)\u001b[0m\u001b[0;34m\u001b[0m\u001b[0m\n\u001b[0m\u001b[1;32m     87\u001b[0m     \u001b[0mprint\u001b[0m\u001b[0;34m(\u001b[0m\u001b[0;34m'outlet: '\u001b[0m\u001b[0;34m,\u001b[0m \u001b[0moutlet_code_Textwidget\u001b[0m\u001b[0;34m.\u001b[0m\u001b[0mvalue\u001b[0m\u001b[0;34m)\u001b[0m\u001b[0;34m\u001b[0m\u001b[0m\n\u001b[1;32m     88\u001b[0m     \u001b[0mprint\u001b[0m\u001b[0;34m(\u001b[0m\u001b[0;34m'amountDue: '\u001b[0m\u001b[0;34m,\u001b[0m \u001b[0mcash_memo_balance_amount_Textwidget\u001b[0m\u001b[0;34m.\u001b[0m\u001b[0mvalue\u001b[0m\u001b[0;34m)\u001b[0m\u001b[0;34m\u001b[0m\u001b[0m\n",
      "\u001b[0;31mNameError\u001b[0m: name 'Predictor' is not defined"
     ]
    }
   ],
   "source": [
    "import ipywidgets as widgets\n",
    "from IPython.display import display, Image\n",
    "from ipywidgets import HBox, Label\n",
    "from PIL import Image\n",
    "import matplotlib.pyplot as plt\n",
    "import matplotlib.image as mpimg\n",
    "\n",
    "\n",
    "# w = widgets.IntSlider()\n",
    "# display(w)\n",
    "IntSliderlayout = widgets.Layout(width='70%', height='50px') # the layout that contains the intSlider\n",
    "\n",
    "outlet_code_Textwidget = widgets.Text(\n",
    "#     description = 'outlet_code',\n",
    "#     layout=widgets.Layout(width='50%', height='80px')\n",
    ")\n",
    "outletBox = HBox([Label('outlet code'), outlet_code_Textwidget]) # a box tha holds the outlet code text box. This is used with this widget\n",
    "                                                     # and other widgets to allow for more room for the label as description\n",
    "                                                     # doesn't scale properly in size.\n",
    "cash_memo_balance_amount_Textwidget = widgets.Text(\n",
    "#     description = 'cash_memo_balance_amount'\n",
    ")\n",
    "cash_memo_balance_amountBox = HBox([Label('cash memo balance amount'), cash_memo_balance_amount_Textwidget])\n",
    "\n",
    "# cash_memo_total_amount_Textwidget = widgets.Text()\n",
    "# cash_memo_total_amountBox = HBox([Label('cash memo total amount'), cash_memo_total_amount_Textwidget])\n",
    "\n",
    "product_price_Textwidget = widgets.Text(\n",
    "#     description = 'product_price'\n",
    ")\n",
    "product_priceBox = HBox([Label('product price'), product_price_Textwidget])\n",
    "\n",
    "quantity_Textwidget = widgets.Text(\n",
    "#     description = 'quantity'\n",
    ")\n",
    "quantityBox = HBox([Label('quantity'), quantity_Textwidget])\n",
    "\n",
    "DPD_IntSliderwidget = widgets.IntSlider(\n",
    "    value = 0, # the initial value\n",
    "    min = 0,  # setting the min and max values of the slider\n",
    "    max = 30,    \n",
    "#     description='DPD:', # a text describing the slider\n",
    "    disabled=False, # if you want to disable the slider or enable it.\n",
    "    continuous_update=False,\n",
    "    orientation='horizontal',\n",
    "    readout=True,\n",
    "    layout = IntSliderlayout,\n",
    "    readout_format='d'\n",
    ")\n",
    "DPDBox = HBox([Label('DPD (max value = 30, min value = 0)'), DPD_IntSliderwidget])\n",
    "\n",
    "submit_button = widgets.Button(\n",
    "    description = 'submit features'\n",
    ")\n",
    "\n",
    "ratiopaidLabel = Label(\n",
    ")\n",
    "\n",
    "# defining and setting up the image widget\n",
    "imgFile = open(\"../logo.png\", \"rb\")\n",
    "image = imgFile.read()\n",
    "imageWidget = widgets.Image(\n",
    "    value=image,\n",
    "    format='png',\n",
    "    width=500,\n",
    "    height=110,\n",
    ")\n",
    "\n",
    "# the method that used in the submit button click event\n",
    "def submitFeatures(btn_object):\n",
    "    \n",
    "    outlet_code = int(outlet_code_Textwidget.value)\n",
    "    cash_memo_balance = float(cash_memo_balance_amount_Textwidget.value)\n",
    "    productprice = float(product_price_Textwidget.value)\n",
    "    quantity = int(quantity_Textwidget.value)\n",
    "    dpd = int(DPD_IntSliderwidget.value)\n",
    "    \n",
    "    predictor_input = [[outlet_code,\n",
    "                               cash_memo_balance,\n",
    "                                productprice,\n",
    "                                quantity,\n",
    "                                dpd\n",
    "                               ]]\n",
    "    \n",
    "    print(predictor_input)\n",
    "    prediction = Predictor.predict(predictor_input)\n",
    "    print('outlet: ', outlet_code_Textwidget.value)\n",
    "    print('amountDue: ', cash_memo_balance_amount_Textwidget.value)\n",
    "    print('productPrice: ', product_price_Textwidget.value)\n",
    "    print('DPD: ', DPD_IntSliderwidget.value)\n",
    "    print('quantity: ', quantity_Textwidget.value)\n",
    "    print('cash_memo_total_amount: ', cash_memo_total_amount_Textwidget.value)\n",
    "    \n",
    "    ratiopaidLabel.description = prediction\n",
    "  # storing the result of the final quantity value here\n",
    "#     print('-- prediction of ratio paid ', prediction)\n",
    "\n",
    "display(imageWidget) # showing the image \n",
    "display(outletBox) # showing the outlet text field widget\n",
    "display(cash_memo_balance_amountBox) # showing the cash_memo_balance text field widget\n",
    "display(product_priceBox) #  showing the product_price text field widget\n",
    "display(DPDBox) #  showing the DPD slider widget\n",
    "# display(cash_memo_total_amountBox) #  showing the cash_memo_total text field widget\n",
    "display(quantityBox)\n",
    "display(submit_button) #  showing the submit button widget\n",
    "submit_button.on_click(submitFeatures)\n",
    "\n",
    "display(Label('the Paid Ratio based on the features is: '))  # showing the quantity label \n",
    "\n",
    "display(ratiopaidLabel) # showing the quantity label result \n",
    "# w.close()"
   ]
  },
  {
   "cell_type": "code",
   "execution_count": null,
   "metadata": {},
   "outputs": [],
   "source": []
  }
 ],
 "metadata": {
  "kernelspec": {
   "display_name": "Python 3",
   "language": "python",
   "name": "python3"
  },
  "language_info": {
   "codemirror_mode": {
    "name": "ipython",
    "version": 3
   },
   "file_extension": ".py",
   "mimetype": "text/x-python",
   "name": "python",
   "nbconvert_exporter": "python",
   "pygments_lexer": "ipython3",
   "version": "3.6.5"
  },
  "toc": {
   "base_numbering": 1,
   "nav_menu": {},
   "number_sections": false,
   "sideBar": false,
   "skip_h1_title": false,
   "title_cell": "Table of Contents",
   "title_sidebar": "Contents",
   "toc_cell": false,
   "toc_position": {},
   "toc_section_display": false,
   "toc_window_display": false
  }
 },
 "nbformat": 4,
 "nbformat_minor": 2
}
